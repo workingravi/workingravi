{
  "nbformat": 4,
  "nbformat_minor": 0,
  "metadata": {
    "kernelspec": {
      "display_name": "Python 3",
      "language": "python",
      "name": "python3"
    },
    "language_info": {
      "codemirror_mode": {
        "name": "ipython",
        "version": 3
      },
      "file_extension": ".py",
      "mimetype": "text/x-python",
      "name": "python",
      "nbconvert_exporter": "python",
      "pygments_lexer": "ipython3",
      "version": "3.8.3"
    },
    "colab": {
      "name": "Dash-on-GGL-Colab.ipynb",
      "provenance": [],
      "include_colab_link": true
    }
  },
  "cells": [
    {
      "cell_type": "markdown",
      "metadata": {
        "id": "view-in-github",
        "colab_type": "text"
      },
      "source": [
        "<a href=\"https://colab.research.google.com/github/workingravi/workingravi/blob/main/Dash_on_Colab.ipynb\" target=\"_parent\"><img src=\"https://colab.research.google.com/assets/colab-badge.svg\" alt=\"Open In Colab\"/></a>"
      ]
    },
    {
      "cell_type": "code",
      "metadata": {
        "colab": {
          "base_uri": "https://localhost:8080/"
        },
        "id": "tUr9aRGBLUGo",
        "outputId": "7d2f6db7-fa8f-4a72-b530-8f1ef182b93b"
      },
      "source": [
        "pip install jupyter-dash -q"
      ],
      "execution_count": 1,
      "outputs": [
        {
          "output_type": "stream",
          "name": "stdout",
          "text": [
            "\u001b[K     |████████████████████████████████| 7.3 MB 5.3 MB/s \n",
            "\u001b[K     |████████████████████████████████| 23.9 MB 13 kB/s \n",
            "\u001b[K     |████████████████████████████████| 357 kB 66.1 MB/s \n",
            "\u001b[?25h  Building wheel for dash-core-components (setup.py) ... \u001b[?25l\u001b[?25hdone\n",
            "  Building wheel for dash-html-components (setup.py) ... \u001b[?25l\u001b[?25hdone\n",
            "  Building wheel for dash-table (setup.py) ... \u001b[?25l\u001b[?25hdone\n"
          ]
        }
      ]
    },
    {
      "cell_type": "code",
      "metadata": {
        "colab": {
          "base_uri": "https://localhost:8080/"
        },
        "id": "w6w9vshALUGr",
        "outputId": "111da631-3caf-4176-82ed-fa30f3cf6fd1"
      },
      "source": [
        "pip install dash-cytoscape -q"
      ],
      "execution_count": 2,
      "outputs": [
        {
          "output_type": "stream",
          "name": "stdout",
          "text": [
            "\u001b[?25l\r\u001b[K     |                                | 10 kB 23.0 MB/s eta 0:00:01\r\u001b[K     |▏                               | 20 kB 12.8 MB/s eta 0:00:01\r\u001b[K     |▎                               | 30 kB 8.9 MB/s eta 0:00:01\r\u001b[K     |▍                               | 40 kB 7.8 MB/s eta 0:00:01\r\u001b[K     |▌                               | 51 kB 4.6 MB/s eta 0:00:01\r\u001b[K     |▌                               | 61 kB 4.4 MB/s eta 0:00:01\r\u001b[K     |▋                               | 71 kB 4.7 MB/s eta 0:00:01\r\u001b[K     |▊                               | 81 kB 5.2 MB/s eta 0:00:01\r\u001b[K     |▉                               | 92 kB 5.1 MB/s eta 0:00:01\r\u001b[K     |█                               | 102 kB 4.4 MB/s eta 0:00:01\r\u001b[K     |█                               | 112 kB 4.4 MB/s eta 0:00:01\r\u001b[K     |█                               | 122 kB 4.4 MB/s eta 0:00:01\r\u001b[K     |█▏                              | 133 kB 4.4 MB/s eta 0:00:01\r\u001b[K     |█▎                              | 143 kB 4.4 MB/s eta 0:00:01\r\u001b[K     |█▍                              | 153 kB 4.4 MB/s eta 0:00:01\r\u001b[K     |█▌                              | 163 kB 4.4 MB/s eta 0:00:01\r\u001b[K     |█▌                              | 174 kB 4.4 MB/s eta 0:00:01\r\u001b[K     |█▋                              | 184 kB 4.4 MB/s eta 0:00:01\r\u001b[K     |█▊                              | 194 kB 4.4 MB/s eta 0:00:01\r\u001b[K     |█▉                              | 204 kB 4.4 MB/s eta 0:00:01\r\u001b[K     |██                              | 215 kB 4.4 MB/s eta 0:00:01\r\u001b[K     |██                              | 225 kB 4.4 MB/s eta 0:00:01\r\u001b[K     |██                              | 235 kB 4.4 MB/s eta 0:00:01\r\u001b[K     |██▏                             | 245 kB 4.4 MB/s eta 0:00:01\r\u001b[K     |██▎                             | 256 kB 4.4 MB/s eta 0:00:01\r\u001b[K     |██▍                             | 266 kB 4.4 MB/s eta 0:00:01\r\u001b[K     |██▌                             | 276 kB 4.4 MB/s eta 0:00:01\r\u001b[K     |██▌                             | 286 kB 4.4 MB/s eta 0:00:01\r\u001b[K     |██▋                             | 296 kB 4.4 MB/s eta 0:00:01\r\u001b[K     |██▊                             | 307 kB 4.4 MB/s eta 0:00:01\r\u001b[K     |██▉                             | 317 kB 4.4 MB/s eta 0:00:01\r\u001b[K     |███                             | 327 kB 4.4 MB/s eta 0:00:01\r\u001b[K     |███                             | 337 kB 4.4 MB/s eta 0:00:01\r\u001b[K     |███                             | 348 kB 4.4 MB/s eta 0:00:01\r\u001b[K     |███▏                            | 358 kB 4.4 MB/s eta 0:00:01\r\u001b[K     |███▎                            | 368 kB 4.4 MB/s eta 0:00:01\r\u001b[K     |███▍                            | 378 kB 4.4 MB/s eta 0:00:01\r\u001b[K     |███▌                            | 389 kB 4.4 MB/s eta 0:00:01\r\u001b[K     |███▌                            | 399 kB 4.4 MB/s eta 0:00:01\r\u001b[K     |███▋                            | 409 kB 4.4 MB/s eta 0:00:01\r\u001b[K     |███▊                            | 419 kB 4.4 MB/s eta 0:00:01\r\u001b[K     |███▉                            | 430 kB 4.4 MB/s eta 0:00:01\r\u001b[K     |████                            | 440 kB 4.4 MB/s eta 0:00:01\r\u001b[K     |████                            | 450 kB 4.4 MB/s eta 0:00:01\r\u001b[K     |████                            | 460 kB 4.4 MB/s eta 0:00:01\r\u001b[K     |████▏                           | 471 kB 4.4 MB/s eta 0:00:01\r\u001b[K     |████▎                           | 481 kB 4.4 MB/s eta 0:00:01\r\u001b[K     |████▍                           | 491 kB 4.4 MB/s eta 0:00:01\r\u001b[K     |████▍                           | 501 kB 4.4 MB/s eta 0:00:01\r\u001b[K     |████▌                           | 512 kB 4.4 MB/s eta 0:00:01\r\u001b[K     |████▋                           | 522 kB 4.4 MB/s eta 0:00:01\r\u001b[K     |████▊                           | 532 kB 4.4 MB/s eta 0:00:01\r\u001b[K     |████▉                           | 542 kB 4.4 MB/s eta 0:00:01\r\u001b[K     |█████                           | 552 kB 4.4 MB/s eta 0:00:01\r\u001b[K     |█████                           | 563 kB 4.4 MB/s eta 0:00:01\r\u001b[K     |█████                           | 573 kB 4.4 MB/s eta 0:00:01\r\u001b[K     |█████▏                          | 583 kB 4.4 MB/s eta 0:00:01\r\u001b[K     |█████▎                          | 593 kB 4.4 MB/s eta 0:00:01\r\u001b[K     |█████▍                          | 604 kB 4.4 MB/s eta 0:00:01\r\u001b[K     |█████▍                          | 614 kB 4.4 MB/s eta 0:00:01\r\u001b[K     |█████▌                          | 624 kB 4.4 MB/s eta 0:00:01\r\u001b[K     |█████▋                          | 634 kB 4.4 MB/s eta 0:00:01\r\u001b[K     |█████▊                          | 645 kB 4.4 MB/s eta 0:00:01\r\u001b[K     |█████▉                          | 655 kB 4.4 MB/s eta 0:00:01\r\u001b[K     |██████                          | 665 kB 4.4 MB/s eta 0:00:01\r\u001b[K     |██████                          | 675 kB 4.4 MB/s eta 0:00:01\r\u001b[K     |██████                          | 686 kB 4.4 MB/s eta 0:00:01\r\u001b[K     |██████▏                         | 696 kB 4.4 MB/s eta 0:00:01\r\u001b[K     |██████▎                         | 706 kB 4.4 MB/s eta 0:00:01\r\u001b[K     |██████▍                         | 716 kB 4.4 MB/s eta 0:00:01\r\u001b[K     |██████▍                         | 727 kB 4.4 MB/s eta 0:00:01\r\u001b[K     |██████▌                         | 737 kB 4.4 MB/s eta 0:00:01\r\u001b[K     |██████▋                         | 747 kB 4.4 MB/s eta 0:00:01\r\u001b[K     |██████▊                         | 757 kB 4.4 MB/s eta 0:00:01\r\u001b[K     |██████▉                         | 768 kB 4.4 MB/s eta 0:00:01\r\u001b[K     |███████                         | 778 kB 4.4 MB/s eta 0:00:01\r\u001b[K     |███████                         | 788 kB 4.4 MB/s eta 0:00:01\r\u001b[K     |███████                         | 798 kB 4.4 MB/s eta 0:00:01\r\u001b[K     |███████▏                        | 808 kB 4.4 MB/s eta 0:00:01\r\u001b[K     |███████▎                        | 819 kB 4.4 MB/s eta 0:00:01\r\u001b[K     |███████▍                        | 829 kB 4.4 MB/s eta 0:00:01\r\u001b[K     |███████▍                        | 839 kB 4.4 MB/s eta 0:00:01\r\u001b[K     |███████▌                        | 849 kB 4.4 MB/s eta 0:00:01\r\u001b[K     |███████▋                        | 860 kB 4.4 MB/s eta 0:00:01\r\u001b[K     |███████▊                        | 870 kB 4.4 MB/s eta 0:00:01\r\u001b[K     |███████▉                        | 880 kB 4.4 MB/s eta 0:00:01\r\u001b[K     |███████▉                        | 890 kB 4.4 MB/s eta 0:00:01\r\u001b[K     |████████                        | 901 kB 4.4 MB/s eta 0:00:01\r\u001b[K     |████████                        | 911 kB 4.4 MB/s eta 0:00:01\r\u001b[K     |████████▏                       | 921 kB 4.4 MB/s eta 0:00:01\r\u001b[K     |████████▎                       | 931 kB 4.4 MB/s eta 0:00:01\r\u001b[K     |████████▍                       | 942 kB 4.4 MB/s eta 0:00:01\r\u001b[K     |████████▍                       | 952 kB 4.4 MB/s eta 0:00:01\r\u001b[K     |████████▌                       | 962 kB 4.4 MB/s eta 0:00:01\r\u001b[K     |████████▋                       | 972 kB 4.4 MB/s eta 0:00:01\r\u001b[K     |████████▊                       | 983 kB 4.4 MB/s eta 0:00:01\r\u001b[K     |████████▉                       | 993 kB 4.4 MB/s eta 0:00:01\r\u001b[K     |████████▉                       | 1.0 MB 4.4 MB/s eta 0:00:01\r\u001b[K     |█████████                       | 1.0 MB 4.4 MB/s eta 0:00:01\r\u001b[K     |█████████                       | 1.0 MB 4.4 MB/s eta 0:00:01\r\u001b[K     |█████████▏                      | 1.0 MB 4.4 MB/s eta 0:00:01\r\u001b[K     |█████████▎                      | 1.0 MB 4.4 MB/s eta 0:00:01\r\u001b[K     |█████████▍                      | 1.1 MB 4.4 MB/s eta 0:00:01\r\u001b[K     |█████████▍                      | 1.1 MB 4.4 MB/s eta 0:00:01\r\u001b[K     |█████████▌                      | 1.1 MB 4.4 MB/s eta 0:00:01\r\u001b[K     |█████████▋                      | 1.1 MB 4.4 MB/s eta 0:00:01\r\u001b[K     |█████████▊                      | 1.1 MB 4.4 MB/s eta 0:00:01\r\u001b[K     |█████████▉                      | 1.1 MB 4.4 MB/s eta 0:00:01\r\u001b[K     |█████████▉                      | 1.1 MB 4.4 MB/s eta 0:00:01\r\u001b[K     |██████████                      | 1.1 MB 4.4 MB/s eta 0:00:01\r\u001b[K     |██████████                      | 1.1 MB 4.4 MB/s eta 0:00:01\r\u001b[K     |██████████▏                     | 1.1 MB 4.4 MB/s eta 0:00:01\r\u001b[K     |██████████▎                     | 1.2 MB 4.4 MB/s eta 0:00:01\r\u001b[K     |██████████▍                     | 1.2 MB 4.4 MB/s eta 0:00:01\r\u001b[K     |██████████▍                     | 1.2 MB 4.4 MB/s eta 0:00:01\r\u001b[K     |██████████▌                     | 1.2 MB 4.4 MB/s eta 0:00:01\r\u001b[K     |██████████▋                     | 1.2 MB 4.4 MB/s eta 0:00:01\r\u001b[K     |██████████▊                     | 1.2 MB 4.4 MB/s eta 0:00:01\r\u001b[K     |██████████▉                     | 1.2 MB 4.4 MB/s eta 0:00:01\r\u001b[K     |██████████▉                     | 1.2 MB 4.4 MB/s eta 0:00:01\r\u001b[K     |███████████                     | 1.2 MB 4.4 MB/s eta 0:00:01\r\u001b[K     |███████████                     | 1.2 MB 4.4 MB/s eta 0:00:01\r\u001b[K     |███████████▏                    | 1.3 MB 4.4 MB/s eta 0:00:01\r\u001b[K     |███████████▎                    | 1.3 MB 4.4 MB/s eta 0:00:01\r\u001b[K     |███████████▎                    | 1.3 MB 4.4 MB/s eta 0:00:01\r\u001b[K     |███████████▍                    | 1.3 MB 4.4 MB/s eta 0:00:01\r\u001b[K     |███████████▌                    | 1.3 MB 4.4 MB/s eta 0:00:01\r\u001b[K     |███████████▋                    | 1.3 MB 4.4 MB/s eta 0:00:01\r\u001b[K     |███████████▊                    | 1.3 MB 4.4 MB/s eta 0:00:01\r\u001b[K     |███████████▉                    | 1.3 MB 4.4 MB/s eta 0:00:01\r\u001b[K     |███████████▉                    | 1.3 MB 4.4 MB/s eta 0:00:01\r\u001b[K     |████████████                    | 1.4 MB 4.4 MB/s eta 0:00:01\r\u001b[K     |████████████                    | 1.4 MB 4.4 MB/s eta 0:00:01\r\u001b[K     |████████████▏                   | 1.4 MB 4.4 MB/s eta 0:00:01\r\u001b[K     |████████████▎                   | 1.4 MB 4.4 MB/s eta 0:00:01\r\u001b[K     |████████████▎                   | 1.4 MB 4.4 MB/s eta 0:00:01\r\u001b[K     |████████████▍                   | 1.4 MB 4.4 MB/s eta 0:00:01\r\u001b[K     |████████████▌                   | 1.4 MB 4.4 MB/s eta 0:00:01\r\u001b[K     |████████████▋                   | 1.4 MB 4.4 MB/s eta 0:00:01\r\u001b[K     |████████████▊                   | 1.4 MB 4.4 MB/s eta 0:00:01\r\u001b[K     |████████████▉                   | 1.4 MB 4.4 MB/s eta 0:00:01\r\u001b[K     |████████████▉                   | 1.5 MB 4.4 MB/s eta 0:00:01\r\u001b[K     |█████████████                   | 1.5 MB 4.4 MB/s eta 0:00:01\r\u001b[K     |█████████████                   | 1.5 MB 4.4 MB/s eta 0:00:01\r\u001b[K     |█████████████▏                  | 1.5 MB 4.4 MB/s eta 0:00:01\r\u001b[K     |█████████████▎                  | 1.5 MB 4.4 MB/s eta 0:00:01\r\u001b[K     |█████████████▎                  | 1.5 MB 4.4 MB/s eta 0:00:01\r\u001b[K     |█████████████▍                  | 1.5 MB 4.4 MB/s eta 0:00:01\r\u001b[K     |█████████████▌                  | 1.5 MB 4.4 MB/s eta 0:00:01\r\u001b[K     |█████████████▋                  | 1.5 MB 4.4 MB/s eta 0:00:01\r\u001b[K     |█████████████▊                  | 1.5 MB 4.4 MB/s eta 0:00:01\r\u001b[K     |█████████████▉                  | 1.6 MB 4.4 MB/s eta 0:00:01\r\u001b[K     |█████████████▉                  | 1.6 MB 4.4 MB/s eta 0:00:01\r\u001b[K     |██████████████                  | 1.6 MB 4.4 MB/s eta 0:00:01\r\u001b[K     |██████████████                  | 1.6 MB 4.4 MB/s eta 0:00:01\r\u001b[K     |██████████████▏                 | 1.6 MB 4.4 MB/s eta 0:00:01\r\u001b[K     |██████████████▎                 | 1.6 MB 4.4 MB/s eta 0:00:01\r\u001b[K     |██████████████▎                 | 1.6 MB 4.4 MB/s eta 0:00:01\r\u001b[K     |██████████████▍                 | 1.6 MB 4.4 MB/s eta 0:00:01\r\u001b[K     |██████████████▌                 | 1.6 MB 4.4 MB/s eta 0:00:01\r\u001b[K     |██████████████▋                 | 1.6 MB 4.4 MB/s eta 0:00:01\r\u001b[K     |██████████████▊                 | 1.7 MB 4.4 MB/s eta 0:00:01\r\u001b[K     |██████████████▊                 | 1.7 MB 4.4 MB/s eta 0:00:01\r\u001b[K     |██████████████▉                 | 1.7 MB 4.4 MB/s eta 0:00:01\r\u001b[K     |███████████████                 | 1.7 MB 4.4 MB/s eta 0:00:01\r\u001b[K     |███████████████                 | 1.7 MB 4.4 MB/s eta 0:00:01\r\u001b[K     |███████████████▏                | 1.7 MB 4.4 MB/s eta 0:00:01\r\u001b[K     |███████████████▎                | 1.7 MB 4.4 MB/s eta 0:00:01\r\u001b[K     |███████████████▎                | 1.7 MB 4.4 MB/s eta 0:00:01\r\u001b[K     |███████████████▍                | 1.7 MB 4.4 MB/s eta 0:00:01\r\u001b[K     |███████████████▌                | 1.8 MB 4.4 MB/s eta 0:00:01\r\u001b[K     |███████████████▋                | 1.8 MB 4.4 MB/s eta 0:00:01\r\u001b[K     |███████████████▊                | 1.8 MB 4.4 MB/s eta 0:00:01\r\u001b[K     |███████████████▊                | 1.8 MB 4.4 MB/s eta 0:00:01\r\u001b[K     |███████████████▉                | 1.8 MB 4.4 MB/s eta 0:00:01\r\u001b[K     |████████████████                | 1.8 MB 4.4 MB/s eta 0:00:01\r\u001b[K     |████████████████                | 1.8 MB 4.4 MB/s eta 0:00:01\r\u001b[K     |████████████████▏               | 1.8 MB 4.4 MB/s eta 0:00:01\r\u001b[K     |████████████████▎               | 1.8 MB 4.4 MB/s eta 0:00:01\r\u001b[K     |████████████████▎               | 1.8 MB 4.4 MB/s eta 0:00:01\r\u001b[K     |████████████████▍               | 1.9 MB 4.4 MB/s eta 0:00:01\r\u001b[K     |████████████████▌               | 1.9 MB 4.4 MB/s eta 0:00:01\r\u001b[K     |████████████████▋               | 1.9 MB 4.4 MB/s eta 0:00:01\r\u001b[K     |████████████████▊               | 1.9 MB 4.4 MB/s eta 0:00:01\r\u001b[K     |████████████████▊               | 1.9 MB 4.4 MB/s eta 0:00:01\r\u001b[K     |████████████████▉               | 1.9 MB 4.4 MB/s eta 0:00:01\r\u001b[K     |█████████████████               | 1.9 MB 4.4 MB/s eta 0:00:01\r\u001b[K     |█████████████████               | 1.9 MB 4.4 MB/s eta 0:00:01\r\u001b[K     |█████████████████▏              | 1.9 MB 4.4 MB/s eta 0:00:01\r\u001b[K     |█████████████████▎              | 1.9 MB 4.4 MB/s eta 0:00:01\r\u001b[K     |█████████████████▎              | 2.0 MB 4.4 MB/s eta 0:00:01\r\u001b[K     |█████████████████▍              | 2.0 MB 4.4 MB/s eta 0:00:01\r\u001b[K     |█████████████████▌              | 2.0 MB 4.4 MB/s eta 0:00:01\r\u001b[K     |█████████████████▋              | 2.0 MB 4.4 MB/s eta 0:00:01\r\u001b[K     |█████████████████▊              | 2.0 MB 4.4 MB/s eta 0:00:01\r\u001b[K     |█████████████████▊              | 2.0 MB 4.4 MB/s eta 0:00:01\r\u001b[K     |█████████████████▉              | 2.0 MB 4.4 MB/s eta 0:00:01\r\u001b[K     |██████████████████              | 2.0 MB 4.4 MB/s eta 0:00:01\r\u001b[K     |██████████████████              | 2.0 MB 4.4 MB/s eta 0:00:01\r\u001b[K     |██████████████████▏             | 2.0 MB 4.4 MB/s eta 0:00:01\r\u001b[K     |██████████████████▏             | 2.1 MB 4.4 MB/s eta 0:00:01\r\u001b[K     |██████████████████▎             | 2.1 MB 4.4 MB/s eta 0:00:01\r\u001b[K     |██████████████████▍             | 2.1 MB 4.4 MB/s eta 0:00:01\r\u001b[K     |██████████████████▌             | 2.1 MB 4.4 MB/s eta 0:00:01\r\u001b[K     |██████████████████▋             | 2.1 MB 4.4 MB/s eta 0:00:01\r\u001b[K     |██████████████████▊             | 2.1 MB 4.4 MB/s eta 0:00:01\r\u001b[K     |██████████████████▊             | 2.1 MB 4.4 MB/s eta 0:00:01\r\u001b[K     |██████████████████▉             | 2.1 MB 4.4 MB/s eta 0:00:01\r\u001b[K     |███████████████████             | 2.1 MB 4.4 MB/s eta 0:00:01\r\u001b[K     |███████████████████             | 2.2 MB 4.4 MB/s eta 0:00:01\r\u001b[K     |███████████████████▏            | 2.2 MB 4.4 MB/s eta 0:00:01\r\u001b[K     |███████████████████▏            | 2.2 MB 4.4 MB/s eta 0:00:01\r\u001b[K     |███████████████████▎            | 2.2 MB 4.4 MB/s eta 0:00:01\r\u001b[K     |███████████████████▍            | 2.2 MB 4.4 MB/s eta 0:00:01\r\u001b[K     |███████████████████▌            | 2.2 MB 4.4 MB/s eta 0:00:01\r\u001b[K     |███████████████████▋            | 2.2 MB 4.4 MB/s eta 0:00:01\r\u001b[K     |███████████████████▊            | 2.2 MB 4.4 MB/s eta 0:00:01\r\u001b[K     |███████████████████▊            | 2.2 MB 4.4 MB/s eta 0:00:01\r\u001b[K     |███████████████████▉            | 2.2 MB 4.4 MB/s eta 0:00:01\r\u001b[K     |████████████████████            | 2.3 MB 4.4 MB/s eta 0:00:01\r\u001b[K     |████████████████████            | 2.3 MB 4.4 MB/s eta 0:00:01\r\u001b[K     |████████████████████▏           | 2.3 MB 4.4 MB/s eta 0:00:01\r\u001b[K     |████████████████████▏           | 2.3 MB 4.4 MB/s eta 0:00:01\r\u001b[K     |████████████████████▎           | 2.3 MB 4.4 MB/s eta 0:00:01\r\u001b[K     |████████████████████▍           | 2.3 MB 4.4 MB/s eta 0:00:01\r\u001b[K     |████████████████████▌           | 2.3 MB 4.4 MB/s eta 0:00:01\r\u001b[K     |████████████████████▋           | 2.3 MB 4.4 MB/s eta 0:00:01\r\u001b[K     |████████████████████▊           | 2.3 MB 4.4 MB/s eta 0:00:01\r\u001b[K     |████████████████████▊           | 2.3 MB 4.4 MB/s eta 0:00:01\r\u001b[K     |████████████████████▉           | 2.4 MB 4.4 MB/s eta 0:00:01\r\u001b[K     |█████████████████████           | 2.4 MB 4.4 MB/s eta 0:00:01\r\u001b[K     |█████████████████████           | 2.4 MB 4.4 MB/s eta 0:00:01\r\u001b[K     |█████████████████████▏          | 2.4 MB 4.4 MB/s eta 0:00:01\r\u001b[K     |█████████████████████▏          | 2.4 MB 4.4 MB/s eta 0:00:01\r\u001b[K     |█████████████████████▎          | 2.4 MB 4.4 MB/s eta 0:00:01\r\u001b[K     |█████████████████████▍          | 2.4 MB 4.4 MB/s eta 0:00:01\r\u001b[K     |█████████████████████▌          | 2.4 MB 4.4 MB/s eta 0:00:01\r\u001b[K     |█████████████████████▋          | 2.4 MB 4.4 MB/s eta 0:00:01\r\u001b[K     |█████████████████████▋          | 2.4 MB 4.4 MB/s eta 0:00:01\r\u001b[K     |█████████████████████▊          | 2.5 MB 4.4 MB/s eta 0:00:01\r\u001b[K     |█████████████████████▉          | 2.5 MB 4.4 MB/s eta 0:00:01\r\u001b[K     |██████████████████████          | 2.5 MB 4.4 MB/s eta 0:00:01\r\u001b[K     |██████████████████████          | 2.5 MB 4.4 MB/s eta 0:00:01\r\u001b[K     |██████████████████████▏         | 2.5 MB 4.4 MB/s eta 0:00:01\r\u001b[K     |██████████████████████▏         | 2.5 MB 4.4 MB/s eta 0:00:01\r\u001b[K     |██████████████████████▎         | 2.5 MB 4.4 MB/s eta 0:00:01\r\u001b[K     |██████████████████████▍         | 2.5 MB 4.4 MB/s eta 0:00:01\r\u001b[K     |██████████████████████▌         | 2.5 MB 4.4 MB/s eta 0:00:01\r\u001b[K     |██████████████████████▋         | 2.5 MB 4.4 MB/s eta 0:00:01\r\u001b[K     |██████████████████████▋         | 2.6 MB 4.4 MB/s eta 0:00:01\r\u001b[K     |██████████████████████▊         | 2.6 MB 4.4 MB/s eta 0:00:01\r\u001b[K     |██████████████████████▉         | 2.6 MB 4.4 MB/s eta 0:00:01\r\u001b[K     |███████████████████████         | 2.6 MB 4.4 MB/s eta 0:00:01\r\u001b[K     |███████████████████████         | 2.6 MB 4.4 MB/s eta 0:00:01\r\u001b[K     |███████████████████████▏        | 2.6 MB 4.4 MB/s eta 0:00:01\r\u001b[K     |███████████████████████▏        | 2.6 MB 4.4 MB/s eta 0:00:01\r\u001b[K     |███████████████████████▎        | 2.6 MB 4.4 MB/s eta 0:00:01\r\u001b[K     |███████████████████████▍        | 2.6 MB 4.4 MB/s eta 0:00:01\r\u001b[K     |███████████████████████▌        | 2.7 MB 4.4 MB/s eta 0:00:01\r\u001b[K     |███████████████████████▋        | 2.7 MB 4.4 MB/s eta 0:00:01\r\u001b[K     |███████████████████████▋        | 2.7 MB 4.4 MB/s eta 0:00:01\r\u001b[K     |███████████████████████▊        | 2.7 MB 4.4 MB/s eta 0:00:01\r\u001b[K     |███████████████████████▉        | 2.7 MB 4.4 MB/s eta 0:00:01\r\u001b[K     |████████████████████████        | 2.7 MB 4.4 MB/s eta 0:00:01\r\u001b[K     |████████████████████████        | 2.7 MB 4.4 MB/s eta 0:00:01\r\u001b[K     |████████████████████████▏       | 2.7 MB 4.4 MB/s eta 0:00:01\r\u001b[K     |████████████████████████▏       | 2.7 MB 4.4 MB/s eta 0:00:01\r\u001b[K     |████████████████████████▎       | 2.7 MB 4.4 MB/s eta 0:00:01\r\u001b[K     |████████████████████████▍       | 2.8 MB 4.4 MB/s eta 0:00:01\r\u001b[K     |████████████████████████▌       | 2.8 MB 4.4 MB/s eta 0:00:01\r\u001b[K     |████████████████████████▋       | 2.8 MB 4.4 MB/s eta 0:00:01\r\u001b[K     |████████████████████████▋       | 2.8 MB 4.4 MB/s eta 0:00:01\r\u001b[K     |████████████████████████▊       | 2.8 MB 4.4 MB/s eta 0:00:01\r\u001b[K     |████████████████████████▉       | 2.8 MB 4.4 MB/s eta 0:00:01\r\u001b[K     |█████████████████████████       | 2.8 MB 4.4 MB/s eta 0:00:01\r\u001b[K     |█████████████████████████       | 2.8 MB 4.4 MB/s eta 0:00:01\r\u001b[K     |█████████████████████████▏      | 2.8 MB 4.4 MB/s eta 0:00:01\r\u001b[K     |█████████████████████████▏      | 2.8 MB 4.4 MB/s eta 0:00:01\r\u001b[K     |█████████████████████████▎      | 2.9 MB 4.4 MB/s eta 0:00:01\r\u001b[K     |█████████████████████████▍      | 2.9 MB 4.4 MB/s eta 0:00:01\r\u001b[K     |█████████████████████████▌      | 2.9 MB 4.4 MB/s eta 0:00:01\r\u001b[K     |█████████████████████████▋      | 2.9 MB 4.4 MB/s eta 0:00:01\r\u001b[K     |█████████████████████████▋      | 2.9 MB 4.4 MB/s eta 0:00:01\r\u001b[K     |█████████████████████████▊      | 2.9 MB 4.4 MB/s eta 0:00:01\r\u001b[K     |█████████████████████████▉      | 2.9 MB 4.4 MB/s eta 0:00:01\r\u001b[K     |██████████████████████████      | 2.9 MB 4.4 MB/s eta 0:00:01\r\u001b[K     |██████████████████████████      | 2.9 MB 4.4 MB/s eta 0:00:01\r\u001b[K     |██████████████████████████      | 2.9 MB 4.4 MB/s eta 0:00:01\r\u001b[K     |██████████████████████████▏     | 3.0 MB 4.4 MB/s eta 0:00:01\r\u001b[K     |██████████████████████████▎     | 3.0 MB 4.4 MB/s eta 0:00:01\r\u001b[K     |██████████████████████████▍     | 3.0 MB 4.4 MB/s eta 0:00:01\r\u001b[K     |██████████████████████████▌     | 3.0 MB 4.4 MB/s eta 0:00:01\r\u001b[K     |██████████████████████████▋     | 3.0 MB 4.4 MB/s eta 0:00:01\r\u001b[K     |██████████████████████████▋     | 3.0 MB 4.4 MB/s eta 0:00:01\r\u001b[K     |██████████████████████████▊     | 3.0 MB 4.4 MB/s eta 0:00:01\r\u001b[K     |██████████████████████████▉     | 3.0 MB 4.4 MB/s eta 0:00:01\r\u001b[K     |███████████████████████████     | 3.0 MB 4.4 MB/s eta 0:00:01\r\u001b[K     |███████████████████████████     | 3.1 MB 4.4 MB/s eta 0:00:01\r\u001b[K     |███████████████████████████     | 3.1 MB 4.4 MB/s eta 0:00:01\r\u001b[K     |███████████████████████████▏    | 3.1 MB 4.4 MB/s eta 0:00:01\r\u001b[K     |███████████████████████████▎    | 3.1 MB 4.4 MB/s eta 0:00:01\r\u001b[K     |███████████████████████████▍    | 3.1 MB 4.4 MB/s eta 0:00:01\r\u001b[K     |███████████████████████████▌    | 3.1 MB 4.4 MB/s eta 0:00:01\r\u001b[K     |███████████████████████████▋    | 3.1 MB 4.4 MB/s eta 0:00:01\r\u001b[K     |███████████████████████████▋    | 3.1 MB 4.4 MB/s eta 0:00:01\r\u001b[K     |███████████████████████████▊    | 3.1 MB 4.4 MB/s eta 0:00:01\r\u001b[K     |███████████████████████████▉    | 3.1 MB 4.4 MB/s eta 0:00:01\r\u001b[K     |████████████████████████████    | 3.2 MB 4.4 MB/s eta 0:00:01\r\u001b[K     |████████████████████████████    | 3.2 MB 4.4 MB/s eta 0:00:01\r\u001b[K     |████████████████████████████    | 3.2 MB 4.4 MB/s eta 0:00:01\r\u001b[K     |████████████████████████████▏   | 3.2 MB 4.4 MB/s eta 0:00:01\r\u001b[K     |████████████████████████████▎   | 3.2 MB 4.4 MB/s eta 0:00:01\r\u001b[K     |████████████████████████████▍   | 3.2 MB 4.4 MB/s eta 0:00:01\r\u001b[K     |████████████████████████████▌   | 3.2 MB 4.4 MB/s eta 0:00:01\r\u001b[K     |████████████████████████████▋   | 3.2 MB 4.4 MB/s eta 0:00:01\r\u001b[K     |████████████████████████████▋   | 3.2 MB 4.4 MB/s eta 0:00:01\r\u001b[K     |████████████████████████████▊   | 3.2 MB 4.4 MB/s eta 0:00:01\r\u001b[K     |████████████████████████████▉   | 3.3 MB 4.4 MB/s eta 0:00:01\r\u001b[K     |█████████████████████████████   | 3.3 MB 4.4 MB/s eta 0:00:01\r\u001b[K     |█████████████████████████████   | 3.3 MB 4.4 MB/s eta 0:00:01\r\u001b[K     |█████████████████████████████   | 3.3 MB 4.4 MB/s eta 0:00:01\r\u001b[K     |█████████████████████████████▏  | 3.3 MB 4.4 MB/s eta 0:00:01\r\u001b[K     |█████████████████████████████▎  | 3.3 MB 4.4 MB/s eta 0:00:01\r\u001b[K     |█████████████████████████████▍  | 3.3 MB 4.4 MB/s eta 0:00:01\r\u001b[K     |█████████████████████████████▌  | 3.3 MB 4.4 MB/s eta 0:00:01\r\u001b[K     |█████████████████████████████▌  | 3.3 MB 4.4 MB/s eta 0:00:01\r\u001b[K     |█████████████████████████████▋  | 3.3 MB 4.4 MB/s eta 0:00:01\r\u001b[K     |█████████████████████████████▊  | 3.4 MB 4.4 MB/s eta 0:00:01\r\u001b[K     |█████████████████████████████▉  | 3.4 MB 4.4 MB/s eta 0:00:01\r\u001b[K     |██████████████████████████████  | 3.4 MB 4.4 MB/s eta 0:00:01\r\u001b[K     |██████████████████████████████  | 3.4 MB 4.4 MB/s eta 0:00:01\r\u001b[K     |██████████████████████████████  | 3.4 MB 4.4 MB/s eta 0:00:01\r\u001b[K     |██████████████████████████████▏ | 3.4 MB 4.4 MB/s eta 0:00:01\r\u001b[K     |██████████████████████████████▎ | 3.4 MB 4.4 MB/s eta 0:00:01\r\u001b[K     |██████████████████████████████▍ | 3.4 MB 4.4 MB/s eta 0:00:01\r\u001b[K     |██████████████████████████████▌ | 3.4 MB 4.4 MB/s eta 0:00:01\r\u001b[K     |██████████████████████████████▌ | 3.5 MB 4.4 MB/s eta 0:00:01\r\u001b[K     |██████████████████████████████▋ | 3.5 MB 4.4 MB/s eta 0:00:01\r\u001b[K     |██████████████████████████████▊ | 3.5 MB 4.4 MB/s eta 0:00:01\r\u001b[K     |██████████████████████████████▉ | 3.5 MB 4.4 MB/s eta 0:00:01\r\u001b[K     |███████████████████████████████ | 3.5 MB 4.4 MB/s eta 0:00:01\r\u001b[K     |███████████████████████████████ | 3.5 MB 4.4 MB/s eta 0:00:01\r\u001b[K     |███████████████████████████████ | 3.5 MB 4.4 MB/s eta 0:00:01\r\u001b[K     |███████████████████████████████▏| 3.5 MB 4.4 MB/s eta 0:00:01\r\u001b[K     |███████████████████████████████▎| 3.5 MB 4.4 MB/s eta 0:00:01\r\u001b[K     |███████████████████████████████▍| 3.5 MB 4.4 MB/s eta 0:00:01\r\u001b[K     |███████████████████████████████▌| 3.6 MB 4.4 MB/s eta 0:00:01\r\u001b[K     |███████████████████████████████▌| 3.6 MB 4.4 MB/s eta 0:00:01\r\u001b[K     |███████████████████████████████▋| 3.6 MB 4.4 MB/s eta 0:00:01\r\u001b[K     |███████████████████████████████▊| 3.6 MB 4.4 MB/s eta 0:00:01\r\u001b[K     |███████████████████████████████▉| 3.6 MB 4.4 MB/s eta 0:00:01\r\u001b[K     |████████████████████████████████| 3.6 MB 4.4 MB/s eta 0:00:01\r\u001b[K     |████████████████████████████████| 3.6 MB 4.4 MB/s \n",
            "\u001b[?25h"
          ]
        }
      ]
    },
    {
      "cell_type": "code",
      "metadata": {
        "colab": {
          "base_uri": "https://localhost:8080/",
          "height": 819
        },
        "id": "3Xaqxhy8LUGs",
        "outputId": "090584db-95fe-4e39-9db4-8cf5ebfdca0a"
      },
      "source": [
        "from jupyter_dash import JupyterDash  # pip install dash\n",
        "import dash_cytoscape as cyto  # pip install dash-cytoscape==0.2.0 or higher\n",
        "import dash_html_components as html\n",
        "import dash_core_components as dcc\n",
        "from dash.dependencies import Output, Input\n",
        "import pandas as pd  # pip install pandas\n",
        "import plotly.express as px\n",
        "import math\n",
        "from dash import no_update\n",
        "\n",
        "\n",
        "external_stylesheets = ['https://codepen.io/chriddyp/pen/bWLwgP.css']\n",
        "app = JupyterDash(__name__, external_stylesheets=external_stylesheets)\n",
        "\n",
        "df = pd.read_csv(\"https://raw.githubusercontent.com/Coding-with-Adam/Dash-by-Plotly/master/Cytoscape/org-data.csv\")\n",
        "\n",
        "app.layout = html.Div([\n",
        "    html.Div([\n",
        "        dcc.Dropdown(\n",
        "            id='dpdn',\n",
        "            value='breadthfirst',\n",
        "            clearable=False,\n",
        "            options=[\n",
        "                {'label': name.capitalize(), 'value': name}\n",
        "                for name in ['breadthfirst' ,'grid', 'random', 'circle', 'cose', 'concentric']\n",
        "            ]\n",
        "        ),\n",
        "        cyto.Cytoscape(\n",
        "            id='org-chart',\n",
        "            autoungrabify=True,\n",
        "            minZoom=0.2,\n",
        "            maxZoom=1,\n",
        "            layout={'name': 'breadthfirst'},\n",
        "            style={'width': '100%', 'height': '500px'},\n",
        "            elements=\n",
        "                [\n",
        "                    # Nodes elements\n",
        "                    {'data': {'id': x, 'label': x}} for x in df.name\n",
        "                ]\n",
        "                +\n",
        "                [\n",
        "                    # Edge elements\n",
        "                    {'data': {'source': 'Executive Director (Harriet)', 'target': 'Vice President (Sarah)'}},\n",
        "                    {'data': {'source': 'Executive Director (Harriet)', 'target': 'Vice President (Charlotte)'}},\n",
        "                    {'data': {'source': 'Vice President (Sarah)', 'target': 'Program Officer (Sojourner)'}},\n",
        "                    {'data': {'source': 'Vice President (Sarah)', 'target': 'Program Officer (Elizabeth)'}},\n",
        "                    {'data': {'source': 'Vice President (Charlotte)', 'target': 'Program Associate (Ellen)'}},\n",
        "                ]\n",
        "        )\n",
        "    ], className='six columns'),\n",
        "\n",
        "    html.Div([\n",
        "        html.Div(id='empty-div', children='')\n",
        "    ],className='one column'),\n",
        "\n",
        "    html.Div([\n",
        "        dcc.Graph(id='my-graph', figure=px.bar(df, x='name', y='slaves_freed'))\n",
        "    ], className='five columns'),\n",
        "\n",
        "], className='row')\n",
        "\n",
        "\n",
        "@app.callback(Output('org-chart', 'layout'),\n",
        "              Input('dpdn', 'value'))\n",
        "def update_layout(layout_value):\n",
        "    if layout_value == 'breadthfirst':\n",
        "        return {\n",
        "        'name': layout_value,\n",
        "        'roots': '[id = \"Executive Director (Harriet)\"]',\n",
        "        'animate': True\n",
        "        }\n",
        "    else:\n",
        "        return {\n",
        "            'name': layout_value,\n",
        "            'animate': True\n",
        "        }\n",
        "\n",
        "\n",
        "@app.callback(\n",
        "    Output('my-graph','figure'),\n",
        "    Input('org-chart','tapNodeData'),\n",
        ")\n",
        "def update_nodes(data):\n",
        "    if data is None:\n",
        "        return no_update\n",
        "    else:\n",
        "        dff = df.copy()\n",
        "        dff.loc[dff.name == data['label'], 'color'] = \"yellow\"\n",
        "        fig = px.bar(dff, x='name', y='slaves_freed')\n",
        "        fig.update_traces(marker={'color': dff['color']})\n",
        "        return fig\n",
        "\n",
        "\n",
        "app.run_server(mode='inline', port=8030)\n"
      ],
      "execution_count": 3,
      "outputs": [
        {
          "output_type": "stream",
          "name": "stderr",
          "text": [
            "/usr/local/lib/python3.7/dist-packages/ipykernel_launcher.py:3: UserWarning: \n",
            "The dash_html_components package is deprecated. Please replace\n",
            "`import dash_html_components as html` with `from dash import html`\n",
            "  This is separate from the ipykernel package so we can avoid doing imports until\n",
            "/usr/local/lib/python3.7/dist-packages/ipykernel_launcher.py:4: UserWarning: \n",
            "The dash_core_components package is deprecated. Please replace\n",
            "`import dash_core_components as dcc` with `from dash import dcc`\n",
            "  after removing the cwd from sys.path.\n"
          ]
        },
        {
          "output_type": "display_data",
          "data": {
            "application/javascript": [
              "(async (port, path, width, height, cache, element) => {\n",
              "    if (!google.colab.kernel.accessAllowed && !cache) {\n",
              "      return;\n",
              "    }\n",
              "    element.appendChild(document.createTextNode(''));\n",
              "    const url = await google.colab.kernel.proxyPort(port, {cache});\n",
              "    const iframe = document.createElement('iframe');\n",
              "    iframe.src = new URL(path, url).toString();\n",
              "    iframe.height = height;\n",
              "    iframe.width = width;\n",
              "    iframe.style.border = 0;\n",
              "    element.appendChild(iframe);\n",
              "  })(8030, \"/\", \"100%\", 650, false, window.element)"
            ],
            "text/plain": [
              "<IPython.core.display.Javascript object>"
            ]
          },
          "metadata": {}
        }
      ]
    },
    {
      "cell_type": "code",
      "metadata": {
        "id": "uP6IZ8RnLUGu"
      },
      "source": [
        ""
      ],
      "execution_count": null,
      "outputs": []
    }
  ]
}